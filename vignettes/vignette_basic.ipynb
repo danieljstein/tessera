{
 "cells": [
  {
   "cell_type": "markdown",
   "id": "ab240f99-86bc-4b94-8abb-8dfb718056d6",
   "metadata": {},
   "source": [
    "# Libs"
   ]
  },
  {
   "cell_type": "code",
   "execution_count": null,
   "id": "2b5f98de-802a-402b-8953-37017da3460f",
   "metadata": {},
   "outputs": [],
   "source": [
    "suppressPackageStartupMessages({\n",
    "    library(tessera)\n",
    "\n",
    "    ## Consider adding dependencies\n",
    "    # library(data.table)\n",
    "\n",
    "    ## Remove these dependencies \n",
    "    # library(RSpectra)\n",
    "    # library(sf) ## my own polygons, sf only for plotting? \n",
    "    # library(mclust) ## mclustBIC. Just use RcppArmadillo's version \n",
    "\n",
    "    ## Move to suggests \n",
    "    ## (for vignette only, not method)\n",
    "    library(ggplot2)\n",
    "    library(ggthemes)\n",
    "    library(viridis)\n",
    "    library(glue)\n",
    "    library(patchwork)\n",
    "    library(ggplot2)\n",
    "    library(ComplexHeatmap)\n",
    "})\n",
    "\n",
    "fig.size <- function(h, w) {\n",
    "    options(repr.plot.height = h, repr.plot.width = w)\n",
    "}\n",
    "\n"
   ]
  },
  {
   "cell_type": "markdown",
   "id": "ad43cbd6-c2ef-4ef8-9721-8b9843202d94",
   "metadata": {},
   "source": [
    "# Data\n",
    "\n",
    "Small sample MERFISH dataset from Chen et al: \n",
    "\n",
    "https://www.biorxiv.org/content/10.1101/2023.04.04.535379v1.abstract\n"
   ]
  },
  {
   "cell_type": "code",
   "execution_count": null,
   "id": "df3a0f4c-d1d0-463b-a1b2-ebc0df9876fd",
   "metadata": {},
   "outputs": [],
   "source": [
    "data('tessera_warmup')\n",
    "counts = tessera_warmup$counts\n",
    "meta_data = tessera_warmup$meta_data"
   ]
  },
  {
   "cell_type": "code",
   "execution_count": null,
   "id": "348d6c5a-e790-42d7-a912-d77e16b859cf",
   "metadata": {},
   "outputs": [],
   "source": [
    "meta_vars_include = c('type')\n"
   ]
  },
  {
   "cell_type": "code",
   "execution_count": null,
   "id": "8c3c4624-d22e-4088-b1f6-6742e55978fc",
   "metadata": {},
   "outputs": [],
   "source": [
    "fig.size(8, 8)\n",
    "ggplot() + \n",
    "    geom_point(data = meta_data, aes(X, Y, color = type)) + \n",
    "    theme_void() + \n",
    "    scale_color_tableau() + \n",
    "    coord_sf(expand = FALSE) + \n",
    "    NULL\n"
   ]
  },
  {
   "cell_type": "markdown",
   "id": "3cc02832-5ed1-4334-8fee-9756eef61ecd",
   "metadata": {},
   "source": [
    "Some coarse grained cell types are predefined here, to help interpret the tiles we get below. "
   ]
  },
  {
   "cell_type": "code",
   "execution_count": null,
   "id": "8f1d42ce-d07c-4423-8928-1ea9a832837c",
   "metadata": {},
   "outputs": [],
   "source": [
    "table(meta_data$type)"
   ]
  },
  {
   "cell_type": "markdown",
   "id": "443be32d-e865-4df9-ab0e-7010b0880fe2",
   "metadata": {},
   "source": [
    "# Get Tiles\n",
    "\n",
    "Run the Tessera algorithm to get tiles in one function. The result is returns in two structures: \n",
    "\n",
    "1) dmt: cell-level information. \n",
    "2) aggs: tile-level information. \n",
    "\n",
    "The two are tied together through `dmt$pts$agg_id`\n"
   ]
  },
  {
   "cell_type": "code",
   "execution_count": null,
   "id": "b9b21c34-7b0c-4d48-9dd0-f48479bdbf9a",
   "metadata": {},
   "outputs": [],
   "source": [
    "res = GetTiles(\n",
    "    X = meta_data$X, \n",
    "    Y = meta_data$Y, \n",
    "    counts = counts, \n",
    "    meta_data = meta_data, \n",
    "    meta_vars_include = meta_vars_include,\n",
    "    max_npts = 50, \n",
    "    min_npts = 5,\n",
    "    smooth_distance = 'projected', smooth_similarity = 'projected' ## Typically more discriminative \n",
    "    # smooth_distance = 'none', smooth_similarity = 'none' ## DEFAULT\n",
    ")\n",
    "dmt = res$dmt\n",
    "aggs = res$aggs\n"
   ]
  },
  {
   "cell_type": "code",
   "execution_count": null,
   "id": "ee0413bf-50b2-48e7-869a-81f94b3ed22d",
   "metadata": {},
   "outputs": [],
   "source": [
    "fig.size(10, 30)\n",
    "purrr::map(1:3, function(i) {\n",
    "    ggplot(cbind(aggs$meta_data, val=aggs$pcs[, i])) + \n",
    "        geom_sf(aes(geometry = shape, fill = val)) + \n",
    "        theme_void(base_size = 16) + \n",
    "        coord_sf(expand = FALSE) + \n",
    "        scale_fill_gradient2_tableau() + \n",
    "        guides(color = 'none') + \n",
    "        labs(title = glue('PC{i}')) + \n",
    "        NULL \n",
    "}) %>% \n",
    "    purrr::reduce(`|`)\n"
   ]
  },
  {
   "cell_type": "markdown",
   "id": "b9b2d795-89ad-4279-9531-8088a0c688a1",
   "metadata": {},
   "source": [
    "# Cluster and label tiles \n",
    "\n",
    "Let's treat each aggregate as a unit of analysis. \n"
   ]
  },
  {
   "cell_type": "code",
   "execution_count": null,
   "id": "8e864fec-c58a-4510-be1b-2c305665ec70",
   "metadata": {},
   "outputs": [],
   "source": [
    "library(Seurat)"
   ]
  },
  {
   "cell_type": "code",
   "execution_count": null,
   "id": "e3870704-d4c9-453c-8cdc-54f936dee40b",
   "metadata": {},
   "outputs": [],
   "source": [
    "obj = Seurat::CreateSeuratObject(\n",
    "    counts = aggs$counts, \n",
    "    meta.data = tibble::column_to_rownames(data.frame(dplyr::select(aggs$meta_data, -shape)), 'id')\n",
    ")\n",
    "\n",
    "## Seurat doesn't do sf shapes well \n",
    "obj@meta.data$shape = aggs$meta_data$shape"
   ]
  },
  {
   "cell_type": "markdown",
   "id": "f569a10e-0154-4545-8689-e763c962a6a9",
   "metadata": {},
   "source": [
    "Do all the typical steps for Seurat clustering. "
   ]
  },
  {
   "cell_type": "code",
   "execution_count": null,
   "id": "6c5b150c-cae7-4b68-a944-1325d3ad3f3f",
   "metadata": {},
   "outputs": [],
   "source": [
    ".verbose = FALSE\n",
    "obj = obj %>% \n",
    "    NormalizeData(normalization.method = 'LogNormalize', scale.factor = median(obj@meta.data$nCount_RNA), verbose = .verbose) %>% \n",
    "    ScaleData(features = rownames(obj), verbose = .verbose) %>% \n",
    "    RunPCA(npcs = 20, features = rownames(obj), verbose = .verbose) %>% \n",
    "    RunUMAP(verbose = .verbose, dims = 1:20) %>% \n",
    "    Seurat::FindNeighbors(features = 1:20, reduction = 'pca', verbose = .verbose) %>% \n",
    "    Seurat::FindClusters(verbose = .verbose, resolution = c(2))"
   ]
  },
  {
   "cell_type": "markdown",
   "id": "3c3ece54-1cfd-4fad-bde1-a74808b7f9fc",
   "metadata": {},
   "source": [
    "Let's see the aggregate clusters in UMAP and physical space. "
   ]
  },
  {
   "cell_type": "code",
   "execution_count": null,
   "id": "163509e9-b8d2-49c3-acfd-e90684f27e53",
   "metadata": {},
   "outputs": [],
   "source": [
    "p1 = DimPlot(obj, reduction = 'umap', group.by = 'seurat_clusters') + scale_color_tableau('Classic 10') \n",
    "p2 = ggplot(obj@meta.data) + \n",
    "    geom_sf(aes(geometry = shape, fill = seurat_clusters)) + \n",
    "    theme_void(base_size = 16) + \n",
    "    coord_sf(expand = FALSE) + \n",
    "    scale_fill_tableau('Classic 10') + \n",
    "    # guides(color = 'none', fill = 'none') + \n",
    "    NULL \n",
    "\n",
    "fig.size(6, 12)\n",
    "(p1 | p2) + plot_layout(widths = c(1, 1))"
   ]
  },
  {
   "cell_type": "markdown",
   "id": "692e925c-f6a3-4cbc-a16c-77ea863d0112",
   "metadata": {},
   "source": [
    "# Transfer agg information to cells"
   ]
  },
  {
   "cell_type": "code",
   "execution_count": null,
   "id": "388341da-c730-48fb-9fd5-7a029acfc446",
   "metadata": {},
   "outputs": [],
   "source": [
    "dmt$pts$spatial_cluster = obj@meta.data$seurat_clusters[dmt$pts$agg_id]"
   ]
  },
  {
   "cell_type": "code",
   "execution_count": null,
   "id": "566d6afc-38c2-4b66-8082-a90b0613cbbf",
   "metadata": {},
   "outputs": [],
   "source": [
    "p1 = ggplot() + \n",
    "    geom_sf(data = obj@meta.data, aes(geometry = shape), fill = NA) + \n",
    "    geom_point(data = dmt$pts, aes(X, Y, color = type)) + \n",
    "    scale_color_tableau() + \n",
    "    theme_void() + \n",
    "    coord_sf(expand = FALSE) + \n",
    "    NULL\n",
    "p2 = ggplot() + \n",
    "    geom_sf(data = obj@meta.data, aes(geometry = shape, fill = seurat_clusters), alpha = .2) + \n",
    "    geom_point(data = dmt$pts, aes(X, Y, color = spatial_cluster)) + \n",
    "    scale_color_tableau('Classic 10') + \n",
    "    scale_fill_tableau('Classic 10') + \n",
    "    theme_void() + \n",
    "    guides(fill = 'none') + \n",
    "    coord_sf(expand = FALSE) + \n",
    "    NULL\n",
    "fig.size(8, 20)\n",
    "p1 | p2\n"
   ]
  },
  {
   "cell_type": "code",
   "execution_count": null,
   "id": "8dd0b531-b947-4298-8b6a-a7af643ad053",
   "metadata": {},
   "outputs": [],
   "source": [
    "fig.size(5, 8)\n",
    "dmt$pts %>% \n",
    "    with(table(type, spatial_cluster)) %>% \n",
    "    prop.table(2) %>% \n",
    "    t %>% scale %>% t %>% \n",
    "    Heatmap()"
   ]
  },
  {
   "cell_type": "code",
   "execution_count": null,
   "id": "738d49e4-c522-4bfc-a0ae-270de77bdad4",
   "metadata": {},
   "outputs": [],
   "source": []
  },
  {
   "cell_type": "code",
   "execution_count": null,
   "id": "5a8271a9-3b9e-4d93-9f9d-62013fb5533e",
   "metadata": {},
   "outputs": [],
   "source": []
  },
  {
   "cell_type": "code",
   "execution_count": null,
   "id": "058a88ee-5e87-44f6-bcba-bbd62da5bd15",
   "metadata": {},
   "outputs": [],
   "source": []
  },
  {
   "cell_type": "code",
   "execution_count": null,
   "id": "3c2499a3-02d1-49d4-b9a9-0210d4b0e98b",
   "metadata": {},
   "outputs": [],
   "source": []
  },
  {
   "cell_type": "code",
   "execution_count": null,
   "id": "2792209d-d664-4af2-9002-e9e0852bc2ec",
   "metadata": {},
   "outputs": [],
   "source": []
  },
  {
   "cell_type": "code",
   "execution_count": null,
   "id": "c5c97335-9ed2-44a0-92be-58aa6f1fbe7a",
   "metadata": {},
   "outputs": [],
   "source": []
  }
 ],
 "metadata": {
  "kernelspec": {
   "display_name": "R",
   "language": "R",
   "name": "ir"
  },
  "language_info": {
   "codemirror_mode": "r",
   "file_extension": ".r",
   "mimetype": "text/x-r-source",
   "name": "R",
   "pygments_lexer": "r",
   "version": "4.4.1"
  }
 },
 "nbformat": 4,
 "nbformat_minor": 5
}
